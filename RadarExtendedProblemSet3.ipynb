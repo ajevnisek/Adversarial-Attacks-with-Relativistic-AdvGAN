{
  "nbformat": 4,
  "nbformat_minor": 0,
  "metadata": {
    "colab": {
      "provenance": [],
      "authorship_tag": "ABX9TyOgtbTxifJLIta9/coUX1OJ",
      "include_colab_link": true
    },
    "kernelspec": {
      "name": "python3",
      "display_name": "Python 3"
    },
    "language_info": {
      "name": "python"
    }
  },
  "cells": [
    {
      "cell_type": "markdown",
      "metadata": {
        "id": "view-in-github",
        "colab_type": "text"
      },
      "source": [
        "<a href=\"https://colab.research.google.com/github/ajevnisek/Adversarial-Attacks-with-Relativistic-AdvGAN/blob/master/RadarExtendedProblemSet3.ipynb\" target=\"_parent\"><img src=\"https://colab.research.google.com/assets/colab-badge.svg\" alt=\"Open In Colab\"/></a>"
      ]
    },
    {
      "cell_type": "markdown",
      "source": [
        "# Problem Set #3\n",
        "\n",
        "## Exercise #1\n",
        "\n",
        "### Exercise 1a:\n",
        "\n",
        "The delay:\n",
        "\n",
        "$\\tau _0 = 2 \\cdot \\frac{\\sqrt{x_0^2 + y_0^2 + h^2}}{c}$\n",
        "\n",
        "The doppler:\n",
        "\n",
        "$\\nu _0 = \\frac{V}{c} \\cdot f \\cdot \\cos (\\text{projection to radial-velocity angle}) = \\frac{V}{c} \\cdot \\frac{c}{\\lambda} \\cdot \\frac{x_0}{\\sqrt{x_0^2 + y_0^2 + h^2}} = \\frac{V}{\\lambda} \\cdot \\frac{x_0}{\\sqrt{x_0^2 + y_0^2 + h^2}}$\n",
        "\n",
        "### Exercise 1b:\n",
        "\n",
        "\n",
        "Target further from the radar than the reference $\\tau = 0$ position corresponds to positive $\\tau$.\n",
        "\n",
        "Here the land is at $(x, y, z) = (2000, -2100, 0)$ and the radar moves towards positive $x$s which means it is moving towards the target (and therefore the target is moving towards the radar). Hence the $\\tau$ is positive $\\tau$.\n",
        "\n",
        "\n",
        "A positive $\\nu$ implies a target moving towards the radar. Here the radar approaches the target (moving towards positive $x$s) so the sign of this is also positive.\n",
        "\n"
      ],
      "metadata": {
        "id": "fZtdrVXJJ-hM"
      }
    },
    {
      "cell_type": "code",
      "execution_count": 1,
      "metadata": {
        "colab": {
          "base_uri": "https://localhost:8080/"
        },
        "id": "fPFtdrFTJ-Bz",
        "outputId": "9da6c16f-6cfa-4cd5-debe-6273081eb569"
      },
      "outputs": [
        {
          "output_type": "stream",
          "name": "stdout",
          "text": [
            "tau_0 is: 27.816861 [micro-sec]\n",
            "nu_0 is: 3.20 [KHz]\n"
          ]
        }
      ],
      "source": [
        "from math import sqrt\n",
        "h = 3000 # [m]\n",
        "V = 200 # [m/sec]\n",
        "f = 10 * 10 ** 9 # [Hz]\n",
        "x_0 = 2000 # [m]\n",
        "y_0 = -2100 # [m]\n",
        "c = 3 * 10 **8 # [m/sec]\n",
        "lmbda = c / f\n",
        "\n",
        "tau_0 = 2 * sqrt(x_0 **2  + y_0 **2 + h ** 2) / c\n",
        "nu_0 = (V / lmbda) * (x_0 / sqrt(x_0 **2  + y_0 **2 + h ** 2))\n",
        "print(f\"tau_0 is: {tau_0 * 10 ** 6:2f} [micro-sec]\")\n",
        "print(f\"nu_0 is: {nu_0 / 10 **3 :.2f} [KHz]\")"
      ]
    },
    {
      "cell_type": "markdown",
      "source": [
        "## Exercise #2\n",
        "\n",
        "The LFM pulse is given by:\n",
        "\n",
        "$u(t) = \\frac{1}{\\sqrt{t_p}}\\cdot \\text{rect}\\Big ( \\frac{t}{t_p} \\Big ) \\cdot\\exp (j \\cdot \\pi \\cdot k \\cdot t^2)$\n",
        "\n",
        "TBW = Time bandwidth = compression ratio = if we transmit a signal with duration $T_p$, then the autocorrelation resolution would be: $\\frac{T_p}{TBW}$.\n",
        "\n",
        "To calculate the autocorrelation function for this pulse, we will do the following:\n",
        "1. Calculate the square pulse ambiguity function.\n",
        "2. Calculate the square pulse modulated with linear frequecy according to property (4) (linear FM) shown in class.\n",
        "3. Slice the ambiguity function in zero doppler (zero doppler cut) to get the autocorrelation function.\n",
        "\n",
        "Let's do it:\n",
        "\n",
        "1. Square pulse ambiguity function is:\n",
        "\n",
        "$|\\chi (\\tau, \\nu)| = \\Big | \\Big ( 1 - \\frac{|\\tau|}{t_p} \\Big ) \\frac{\\sin \\Big [ \\pi t_p \\nu \\Big ( 1 - \\frac{|\\tau|}{t_p} \\Big ) \\Big ] }{ \\pi t_p \\nu \\Big ( 1 - \\frac{|\\tau|}{t_p} \\Big )} \\Big | , |\\tau| \\leq t_p$\n",
        "\n",
        "2. Square pulse modulated with linear frequecy: Substitute $\\nu → \\nu - k \\tau$\n",
        "\n",
        "$|\\chi (\\tau, \\nu)| = \\Big | \\Big ( 1 - \\frac{|\\tau|}{t_p} \\Big ) \\frac{\\sin \\Big [ \\pi t_p \\cdot (\\nu - k \\tau) \\cdot  \\Big ( 1 - \\frac{|\\tau|}{t_p} \\Big ) \\Big ] }{ \\pi t_p \\cdot (\\nu - k \\tau) \\cdot \\Big ( 1 - \\frac{|\\tau|}{t_p} \\Big )} \\Big |, |\\tau| \\leq t_p$\n",
        "\n",
        "\n",
        "3. Autocorrelation function: $\\nu = 0$:\n",
        "\n",
        "$ACF = |\\chi (\\tau, \\nu=0)| = \\Big | \\Big ( 1 - \\frac{|\\tau|}{t_p} \\Big ) \\frac{\\sin \\Big [ \\pi t_p k \\tau \\cdot  \\Big ( 1 - \\frac{|\\tau|}{t_p} \\Big ) \\Big ] }{ \\pi t_p \\cdot k \\tau \\cdot \\Big ( 1 - \\frac{|\\tau|}{t_p} \\Big )} \\Big |, |\\tau| \\leq t_p$\n",
        "\n",
        "\n",
        "Note that the minuses cancelled in the sine-fraction.\n",
        "\n",
        "Now let's plot it with numpy\n"
      ],
      "metadata": {
        "id": "HngpMVKeUHOL"
      }
    },
    {
      "cell_type": "code",
      "source": [
        "import numpy as np\n",
        "import matplotlib.pyplot as plt\n",
        "\n",
        "plt.rcParams['figure.figsize'] = (6, 6)\n",
        "L = 1000\n",
        "\n",
        "tp = 1.0\n",
        "k = 20.0\n",
        "t = np.linspace(-tp / 2.0, tp / 2.0, L)\n",
        "acf_theoretical = np.abs(\n",
        " (1 - t / tp) * \n",
        " (np.sin(np.pi * tp * k * t * (1 - t / tp)) / (np.pi * tp * k * t * (1 - t / tp)))\n",
        ")\n",
        "\n",
        "plt.title('theoretical ACF:')\n",
        "plt.plot(t, acf_theoretical)\n",
        "plt.grid(True)\n",
        "plt.xlabel('t / tp')\n"
      ],
      "metadata": {
        "id": "CggUN91x-N7_"
      },
      "execution_count": null,
      "outputs": []
    },
    {
      "cell_type": "markdown",
      "source": [
        "Let's simulate the pulse:"
      ],
      "metadata": {
        "id": "Ef6OJL71-OVE"
      }
    },
    {
      "cell_type": "code",
      "source": [
        "u = 1 / np.sqrt(tp) * np.exp(1j * np.pi * k * ((t + tp / 2)** 2))\n",
        "\n",
        "plt.rcParams['figure.figsize'] = (12, 6)\n",
        "# our Linear-FM pulse\n",
        "plt.subplot(1, 2, 1)\n",
        "plt.title('real part')\n",
        "plt.plot(t, np.real(u))\n",
        "plt.xlabel('t / tp')\n",
        "plt.subplot(1, 2, 2)\n",
        "plt.title('imagionary part')\n",
        "plt.xlabel('t / tp')\n",
        "plt.plot(t, np.imag(u))\n",
        "\n",
        "\n"
      ],
      "metadata": {
        "id": "YE2obQD_5Vo2"
      },
      "execution_count": null,
      "outputs": []
    },
    {
      "cell_type": "code",
      "source": [
        "acf = np.correlate(u, u, 'full')\n",
        "plt.title('Auto Correlation Function')\n",
        "plt.grid(True)\n",
        "plt.plot(np.linspace(-tp , tp , L*2 - 1), np.abs(acf) / L )\n"
      ],
      "metadata": {
        "id": "jMBMRRlo7BGF"
      },
      "execution_count": null,
      "outputs": []
    },
    {
      "cell_type": "code",
      "source": [
        "plt.title('Auto Correlation Function - zoom in first null')\n",
        "plt.plot(np.linspace(-tp , tp , 2*L - 1), np.abs(acf) / np.max(np.abs(acf)))\n",
        "eps = 1 / 30.0\n",
        "plt.xlim([1 / 20.0 - eps, 1 / 20.0 + eps ])\n",
        "plt.grid(True)"
      ],
      "metadata": {
        "id": "sN5EgkRy8kpz"
      },
      "execution_count": null,
      "outputs": []
    },
    {
      "cell_type": "code",
      "source": [
        "plt.title('Auto Correlation Function - zoom in last null')\n",
        "plt.plot(np.linspace(-tp , tp , 2*L - 1), np.abs(acf) / np.max(np.abs(acf)))\n",
        "eps = 1 / 30.0\n",
        "plt.xlim([1-1 / 20.0 - eps, 1-1 / 20.0 + eps ])\n",
        "plt.ylim([0, 0.02])\n",
        "plt.grid(True)"
      ],
      "metadata": {
        "id": "iQYzJjkM989I"
      },
      "execution_count": null,
      "outputs": []
    },
    {
      "cell_type": "markdown",
      "source": [
        "## Exercise 2b:\n",
        "Zeros for the ACF function occur when the sine argument is at zero (except $tau=0$ in which case the ACF is maximal [maximal acutocorrelation when the signal is aligned with itself]).\n",
        "\n",
        "$ACF = |\\chi (\\tau, \\nu=0)| = \\Big | \\Big ( 1 - \\frac{|\\tau|}{t_p} \\Big ) \\frac{\\sin \\Big [ \\pi t_p k \\tau \\cdot  \\Big ( 1 - \\frac{|\\tau|}{t_p} \\Big ) \\Big ] }{ \\pi t_p \\cdot k \\tau \\cdot \\Big ( 1 - \\frac{|\\tau|}{t_p} \\Big )} \\Big |, |\\tau| \\leq t_p$\n",
        "\n",
        "We would like to show that the zeros are symmetrical around $\\frac{\\tau}{t_p} = 0.5$. To do that, we define a new variable: $\\tau' = \\tau - 0.5t_p$. Showing that the sine is symmetric around this new variable yields that the zeros are symmetric around $\\tau'$:\n",
        "\n",
        "$\\text{arg}(sin) = \\pi t_p k \\tau \\cdot  \\Big ( 1 - \\frac{|\\tau|}{t_p} \\Big ) = \\pi t_p k \\cdot (\\tau' + 0.5 t_p) \\cdot  \\Big ( 1 - \\frac{|\\tau' + 0.5 t_p|}{t_p} \\Big ) = \\pi t_p k \\cdot (\\tau' + 0.5 t_p) \\cdot \\frac{0.5t_p - \\tau'}{t_p} = $ \n",
        "\n",
        "$= \\pi k \\cdot (\\tau' + 0.5 t_p) \\cdot (0.5t_p - \\tau')= \\pi k \\cdot (0.25 t_p^2 - \\tau' ^2)$ \n",
        "\n",
        "The function: $f(\\tau') = 0.25 t_p^2 - \\tau' ^2$ is symmetrical around symmetric around $\\tau' = 0$, which ends the proof.\n"
      ],
      "metadata": {
        "id": "nqUlmSnL0p8n"
      }
    },
    {
      "cell_type": "markdown",
      "source": [
        "## Exercise 2c:\n",
        "\n"
      ],
      "metadata": {
        "id": "Y9Eui00J1d1o"
      }
    },
    {
      "cell_type": "code",
      "source": [
        "plt.rcParams['figure.figsize'] = (16, 16)\n",
        "t = np.linspace(-tp / 2.0, tp / 2.0, L)\n",
        "u = 1 / np.sqrt(tp) * np.exp(1j * np.pi * k * ((t + tp / 2)** 2))\n",
        "afs = {}\n",
        "for idx, nu in enumerate([0.1, 0.5, 1, 2]):\n",
        "  u_doppler = u * np.exp(1j * np.pi * nu * t)\n",
        "  af = np.correlate(u, u_doppler, 'full')\n",
        "  af = np.abs(af) / len(np.abs(af))\n",
        "  afs[nu] = af\n",
        "  plt.subplot(2, 2, idx + 1)\n",
        "  plt.title(f'Ambiguity Slice @ nu*t_p={nu}')\n",
        "  plt.plot(np.linspace(-tp , tp , L*2 - 1), af)\n",
        "  plt.grid(True)\n",
        "  plt.xlabel('tau / t_p')\n"
      ],
      "metadata": {
        "id": "UCgaaXq714Aw"
      },
      "execution_count": null,
      "outputs": []
    },
    {
      "cell_type": "code",
      "source": [
        "import pandas as pd\n",
        "from tabulate import tabulate\n",
        "from collections import OrderedDict\n",
        "\n",
        "\n",
        "afs_time = np.linspace(-tp , tp , L*2 - 1)\n",
        "stats = {}\n",
        "\n",
        "for nu in afs:\n",
        "  af = afs[nu]\n",
        "  pretty_nu = f'nu * tp = {nu}'\n",
        "  stats[pretty_nu] = OrderedDict({})\n",
        "  stats[pretty_nu]['max-height'] = max(af)\n",
        "  stats[pretty_nu]['max-location'] = afs_time[np.argmax(af)]\n",
        "  first_zero_pos_right = [pos for pos, x in enumerate(af) if x < 10**-2 and pos > np.argmax(af)][0]\n",
        "  stats[pretty_nu]['first-zero-right'] = afs_time[first_zero_pos_right]\n",
        "  first_zero_pos_left = [pos for pos, x in enumerate(af) if x < 10**-2 and pos < np.argmax(af)][-1]\n",
        "  af_zeroed_main_lobe = [x if pos > first_zero_pos_right or pos < first_zero_pos_left else 0\n",
        "                         for pos, x in enumerate(af)]\n",
        "  # print(first_zero_pos_left, first_zero_pos_right)\n",
        "  # plt.plot(af_zeroed_main_lobe)\n",
        "  stats[pretty_nu]['side-lobe-height'] = max(af_zeroed_main_lobe)\n",
        "  stats[pretty_nu]['side-lobe-location'] = afs_time[np.argmax(af_zeroed_main_lobe)]\n",
        "df = pd.DataFrame(stats)\n",
        "print(tabulate(df, headers = 'keys', tablefmt = 'psql'))\n",
        "\n",
        "\n",
        "\n"
      ],
      "metadata": {
        "id": "E9lsvQvw7HMq"
      },
      "execution_count": null,
      "outputs": []
    }
  ]
}